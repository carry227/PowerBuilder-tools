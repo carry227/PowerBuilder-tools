{
 "cells": [
  {
   "cell_type": "code",
   "execution_count": 3,
   "metadata": {},
   "outputs": [
    {
     "name": "stdout",
     "output_type": "stream",
     "text": [
      "GUESS NUM:123\n",
      "123  0A0B\n",
      "GUESS NUM:456\n",
      "456  0A1B\n",
      "GUESS NUM:7888\n",
      "輸入號碼有重覆數字,請重新輸入.\n",
      "GUESS NUM:7890\n",
      "輸入號碼須為三碼,請重新輸入.\n",
      "GUESS NUM:789\n",
      "789  1A0B\n",
      "GUESS NUM:085\n",
      "085  1A0B\n",
      "GUESS NUM:049\n",
      "好棒棒,你猜對了~\n"
     ]
    }
   ],
   "source": [
    "'''三位數猜數字'''\n",
    "import random\n",
    "\n",
    "#宣告設定變數\n",
    "rand_num = []\n",
    "guess_num = []\n",
    "i = 1\n",
    "guess_right = False\n",
    "\n",
    "#亂數取不重覆的三位數\n",
    "while i < 4:\n",
    "    x = str(random.randrange(10))\n",
    "    if rand_num.count(x) < 1:\n",
    "        rand_num.append(x)\n",
    "        i+=1\n",
    "\n",
    "#判斷輸入是否正確\n",
    "while not(guess_right):\n",
    "    #判斷輸入 1.三碼不重覆 2.只可輸入三碼\n",
    "    key_in_check = True\n",
    "    while key_in_check:\n",
    "        guess_num = list(input('GUESS NUM:').strip())\n",
    "        if guess_num[0] != guess_num[1] and guess_num[0] != guess_num[2] and guess_num[1] != guess_num[2]:\n",
    "            if len(guess_num) == 3 :\n",
    "                key_in_check = False\n",
    "            else:\n",
    "                print('輸入號碼須為三碼,請重新輸入.')\n",
    "        else:\n",
    "            print('輸入號碼有重覆數字,請重新輸入.')\n",
    "        \n",
    "        \n",
    "    A=0\n",
    "    B=0\n",
    "    for i in range(0,3):\n",
    "        for j in range(0,3):\n",
    "            if i == j and rand_num[i] == guess_num[j]:\n",
    "                A=A+1\n",
    "            elif i != j and rand_num[i] == guess_num[j]:\n",
    "                B=B+1\n",
    "    if A == 3:\n",
    "        print('好棒棒,你猜對了~')\n",
    "        guess_right = True\n",
    "    else:\n",
    "        print(guess_num[0]+guess_num[1]+guess_num[2]+'  '+str(A)+'A'+str(B)+'B')"
   ]
  },
  {
   "cell_type": "code",
   "execution_count": null,
   "metadata": {},
   "outputs": [],
   "source": []
  }
 ],
 "metadata": {
  "kernelspec": {
   "display_name": "Python 3",
   "language": "python",
   "name": "python3"
  },
  "language_info": {
   "codemirror_mode": {
    "name": "ipython",
    "version": 3
   },
   "file_extension": ".py",
   "mimetype": "text/x-python",
   "name": "python",
   "nbconvert_exporter": "python",
   "pygments_lexer": "ipython3",
   "version": "3.7.0"
  }
 },
 "nbformat": 4,
 "nbformat_minor": 2
}
